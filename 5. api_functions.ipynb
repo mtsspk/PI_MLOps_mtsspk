{
 "cells": [
  {
   "cell_type": "code",
   "execution_count": 1,
   "metadata": {},
   "outputs": [],
   "source": [
    "import pandas as pd\n",
    "import numpy as np"
   ]
  },
  {
   "cell_type": "code",
   "execution_count": 2,
   "metadata": {},
   "outputs": [],
   "source": [
    "# Cargar el archivo CSV en un DataFrame\n",
    "df_play_gnr = pd.read_csv('Datasets/Datasets final/df_play_gnr.csv')\n",
    "\n",
    "# Cargar el archivo CSV en un DataFrame\n",
    "df_usr_gnr_top = pd.read_csv('Datasets/Datasets final/df_usr_gnr_top.csv')\n",
    "\n",
    "# Cargar el archivo CSV en un DataFrame\n",
    "df_usr_gnr_top_year = pd.read_csv('Datasets/Datasets final/df_usr_gnr_top_year.csv')\n",
    "\n",
    "# Cargar el archivo CSV en un DataFrame\n",
    "df_games_rec_top_3 = pd.read_csv('Datasets/Datasets final/df_games_rec_top_3.csv')\n",
    "\n",
    "# Cargar el archivo CSV en un DataFrame\n",
    "df_dev_rec_worst_3 = pd.read_csv('Datasets/Datasets final/df_dev_rec_worst_3.csv')\n",
    "\n",
    "# Cargar el archivo CSV en un DataFrame\n",
    "df_dev_sent = pd.read_csv('Datasets/Datasets final/df_dev_sent.csv')\n",
    "\n",
    "# Cargar el archivo CSV en un DataFrame\n",
    "df_games_names = pd.read_csv('Datasets/Datasets final/df_games_names.csv')\n",
    "\n",
    "# Cargar el archivo Parquet en un DataFrame\n",
    "df_games_similarity = pd.read_parquet('Datasets/Datasets final/df_games_similarity.parquet')\n",
    "\n",
    "\n"
   ]
  },
  {
   "cell_type": "markdown",
   "metadata": {},
   "source": []
  },
  {
   "cell_type": "markdown",
   "metadata": {},
   "source": [
    "## def PlayTimeGenre\n"
   ]
  },
  {
   "cell_type": "code",
   "execution_count": 3,
   "metadata": {},
   "outputs": [
    {
     "name": "stdout",
     "output_type": "stream",
     "text": [
      "<class 'pandas.core.frame.DataFrame'>\n",
      "RangeIndex: 12 entries, 0 to 11\n",
      "Data columns (total 3 columns):\n",
      " #   Column        Non-Null Count  Dtype \n",
      "---  ------        --------------  ----- \n",
      " 0   genre         12 non-null     object\n",
      " 1   release_year  12 non-null     int64 \n",
      " 2   playtime      12 non-null     int64 \n",
      "dtypes: int64(2), object(1)\n",
      "memory usage: 420.0+ bytes\n"
     ]
    }
   ],
   "source": [
    "df_play_gnr.info()"
   ]
  },
  {
   "cell_type": "code",
   "execution_count": 4,
   "metadata": {},
   "outputs": [
    {
     "data": {
      "text/plain": [
       "'Para el género RPG, el release_year con mayor playtime es 2011 con un total de playtime de 45961909.'"
      ]
     },
     "execution_count": 4,
     "metadata": {},
     "output_type": "execute_result"
    }
   ],
   "source": [
    "def PlayTimeGenre(df_play_gnr, genre):\n",
    "    # Filtrar el DataFrame por el género proporcionado\n",
    "    genre_data = df_play_gnr[df_play_gnr['genre'] == genre]\n",
    "\n",
    "    if not genre_data.empty:\n",
    "        # Encontrar el release_year con el mayor playtime\n",
    "        max_playtime_row = genre_data.loc[genre_data['playtime'].idxmax()]\n",
    "        max_release_year = max_playtime_row['release_year']\n",
    "        max_playtime = max_playtime_row['playtime']\n",
    "\n",
    "        return f\"Para el género {genre}, el release_year con mayor playtime es {max_release_year} con un total de playtime de {max_playtime}.\"\n",
    "    else:\n",
    "        return f\"No hay datos disponibles para el género {genre}.\"\n",
    "\n",
    "# Ejemplo de uso\n",
    "result = PlayTimeGenre(df_play_gnr, 'RPG')\n",
    "result\n"
   ]
  },
  {
   "cell_type": "code",
   "execution_count": null,
   "metadata": {},
   "outputs": [],
   "source": []
  },
  {
   "cell_type": "code",
   "execution_count": null,
   "metadata": {},
   "outputs": [],
   "source": []
  },
  {
   "cell_type": "markdown",
   "metadata": {},
   "source": [
    "## def UserForGenre\n"
   ]
  },
  {
   "cell_type": "code",
   "execution_count": 5,
   "metadata": {},
   "outputs": [
    {
     "name": "stdout",
     "output_type": "stream",
     "text": [
      "<class 'pandas.core.frame.DataFrame'>\n",
      "RangeIndex: 12 entries, 0 to 11\n",
      "Data columns (total 3 columns):\n",
      " #   Column            Non-Null Count  Dtype \n",
      "---  ------            --------------  ----- \n",
      " 0   genre             12 non-null     object\n",
      " 1   user_id           12 non-null     object\n",
      " 2   playtime_forever  12 non-null     int64 \n",
      "dtypes: int64(1), object(2)\n",
      "memory usage: 420.0+ bytes\n",
      "<class 'pandas.core.frame.DataFrame'>\n",
      "RangeIndex: 65 entries, 0 to 64\n",
      "Data columns (total 6 columns):\n",
      " #   Column               Non-Null Count  Dtype \n",
      "---  ------               --------------  ----- \n",
      " 0   index                65 non-null     int64 \n",
      " 1   user_id              65 non-null     object\n",
      " 2   genre                65 non-null     object\n",
      " 3   release_year         65 non-null     int64 \n",
      " 4   playtime_forever     65 non-null     int64 \n",
      " 5   playtime_acumulated  65 non-null     int64 \n",
      "dtypes: int64(4), object(2)\n",
      "memory usage: 3.2+ KB\n"
     ]
    }
   ],
   "source": [
    "df_usr_gnr_top.info()\n",
    "\n",
    "df_usr_gnr_top_year.info()\n"
   ]
  },
  {
   "cell_type": "code",
   "execution_count": 6,
   "metadata": {},
   "outputs": [
    {
     "name": "stdout",
     "output_type": "stream",
     "text": [
      "Para el género Action, el user_id con mayor playtime_forever es awdawdawdawdawda con un valor de 26105.\n",
      "\n",
      "Detalles de playtime en diferentes años:\n",
      "   release_year  playtime_forever  playtime_acumulated\n",
      "0          2009              1552                 1552\n",
      "1          2012                44                 1596\n",
      "2          2014              5366                 6962\n",
      "3          2015                 4                 6966\n",
      "4          2017             19139                26105\n"
     ]
    }
   ],
   "source": [
    "def UserForGenre(df_usr_gnr_top, df_usr_gnr_top_year, genre):\n",
    "    # Filtrar df_usr_gnr_top por el género proporcionado\n",
    "    genre_data_top = df_usr_gnr_top[df_usr_gnr_top['genre'] == genre]\n",
    "\n",
    "    if not genre_data_top.empty:\n",
    "        # Encontrar el user_id con mayor playtime_forever para el género\n",
    "        max_playtime_row = genre_data_top.loc[genre_data_top['playtime_forever'].idxmax()]\n",
    "        max_user_id = max_playtime_row['user_id']\n",
    "        max_playtime_forever = max_playtime_row['playtime_forever']\n",
    "\n",
    "        # Filtrar df_usr_gnr_top_year por el user_id y el género\n",
    "        user_year_data = df_usr_gnr_top_year[(df_usr_gnr_top_year['user_id'] == max_user_id) & (df_usr_gnr_top_year['genre'] == genre)]\n",
    "\n",
    "        # Mostrar resultados\n",
    "        print(f\"Para el género {genre}, el user_id con mayor playtime_forever es {max_user_id} con un valor de {max_playtime_forever}.\")\n",
    "\n",
    "        if not user_year_data.empty:\n",
    "            print(\"\\nDetalles de playtime en diferentes años:\")\n",
    "            print(user_year_data[['release_year', 'playtime_forever', 'playtime_acumulated']])\n",
    "        else:\n",
    "            print(f\"No hay datos disponibles para el user_id {max_user_id} y el género {genre} en df_usr_gnr_top_year.\")\n",
    "    else:\n",
    "        print(f\"No hay datos disponibles para el género {genre} en df_usr_gnr_top.\")\n",
    "\n",
    "# Ejemplo de uso\n",
    "UserForGenre(df_usr_gnr_top, df_usr_gnr_top_year, 'Action')"
   ]
  },
  {
   "cell_type": "code",
   "execution_count": null,
   "metadata": {},
   "outputs": [],
   "source": []
  },
  {
   "cell_type": "markdown",
   "metadata": {},
   "source": [
    "## def UsersRecommend\n"
   ]
  },
  {
   "cell_type": "code",
   "execution_count": 7,
   "metadata": {},
   "outputs": [
    {
     "name": "stdout",
     "output_type": "stream",
     "text": [
      "<class 'pandas.core.frame.DataFrame'>\n",
      "RangeIndex: 21 entries, 0 to 20\n",
      "Data columns (total 6 columns):\n",
      " #   Column           Non-Null Count  Dtype \n",
      "---  ------           --------------  ----- \n",
      " 0   level_0          21 non-null     int64 \n",
      " 1   index            21 non-null     int64 \n",
      " 2   game_id          21 non-null     int64 \n",
      " 3   posted_year      21 non-null     int64 \n",
      " 4   total_recommend  21 non-null     int64 \n",
      " 5   app_name         21 non-null     object\n",
      "dtypes: int64(5), object(1)\n",
      "memory usage: 1.1+ KB\n"
     ]
    }
   ],
   "source": [
    "df_games_rec_top_3.info()"
   ]
  },
  {
   "cell_type": "code",
   "execution_count": 8,
   "metadata": {},
   "outputs": [
    {
     "data": {
      "text/html": [
       "<div>\n",
       "<style scoped>\n",
       "    .dataframe tbody tr th:only-of-type {\n",
       "        vertical-align: middle;\n",
       "    }\n",
       "\n",
       "    .dataframe tbody tr th {\n",
       "        vertical-align: top;\n",
       "    }\n",
       "\n",
       "    .dataframe thead th {\n",
       "        text-align: right;\n",
       "    }\n",
       "</style>\n",
       "<table border=\"1\" class=\"dataframe\">\n",
       "  <thead>\n",
       "    <tr style=\"text-align: right;\">\n",
       "      <th></th>\n",
       "      <th>level_0</th>\n",
       "      <th>index</th>\n",
       "      <th>game_id</th>\n",
       "      <th>posted_year</th>\n",
       "      <th>total_recommend</th>\n",
       "      <th>app_name</th>\n",
       "    </tr>\n",
       "  </thead>\n",
       "  <tbody>\n",
       "    <tr>\n",
       "      <th>0</th>\n",
       "      <td>0</td>\n",
       "      <td>0</td>\n",
       "      <td>730</td>\n",
       "      <td>0</td>\n",
       "      <td>584</td>\n",
       "      <td>Counter-Strike: Global Offensive</td>\n",
       "    </tr>\n",
       "    <tr>\n",
       "      <th>1</th>\n",
       "      <td>1</td>\n",
       "      <td>1</td>\n",
       "      <td>440</td>\n",
       "      <td>0</td>\n",
       "      <td>227</td>\n",
       "      <td>Team Fortress 2</td>\n",
       "    </tr>\n",
       "    <tr>\n",
       "      <th>2</th>\n",
       "      <td>2</td>\n",
       "      <td>2</td>\n",
       "      <td>4000</td>\n",
       "      <td>0</td>\n",
       "      <td>128</td>\n",
       "      <td>Garry's Mod</td>\n",
       "    </tr>\n",
       "    <tr>\n",
       "      <th>3</th>\n",
       "      <td>1516</td>\n",
       "      <td>1516</td>\n",
       "      <td>440</td>\n",
       "      <td>2010</td>\n",
       "      <td>9</td>\n",
       "      <td>Team Fortress 2</td>\n",
       "    </tr>\n",
       "    <tr>\n",
       "      <th>4</th>\n",
       "      <td>1517</td>\n",
       "      <td>1517</td>\n",
       "      <td>1250</td>\n",
       "      <td>2010</td>\n",
       "      <td>5</td>\n",
       "      <td>Killing Floor</td>\n",
       "    </tr>\n",
       "    <tr>\n",
       "      <th>5</th>\n",
       "      <td>1518</td>\n",
       "      <td>1518</td>\n",
       "      <td>630</td>\n",
       "      <td>2010</td>\n",
       "      <td>4</td>\n",
       "      <td>Alien Swarm</td>\n",
       "    </tr>\n",
       "    <tr>\n",
       "      <th>6</th>\n",
       "      <td>1553</td>\n",
       "      <td>1553</td>\n",
       "      <td>440</td>\n",
       "      <td>2011</td>\n",
       "      <td>73</td>\n",
       "      <td>Team Fortress 2</td>\n",
       "    </tr>\n",
       "    <tr>\n",
       "      <th>7</th>\n",
       "      <td>1554</td>\n",
       "      <td>1554</td>\n",
       "      <td>620</td>\n",
       "      <td>2011</td>\n",
       "      <td>25</td>\n",
       "      <td>Portal 2</td>\n",
       "    </tr>\n",
       "    <tr>\n",
       "      <th>8</th>\n",
       "      <td>1555</td>\n",
       "      <td>1555</td>\n",
       "      <td>105600</td>\n",
       "      <td>2011</td>\n",
       "      <td>21</td>\n",
       "      <td>Terraria</td>\n",
       "    </tr>\n",
       "    <tr>\n",
       "      <th>9</th>\n",
       "      <td>1729</td>\n",
       "      <td>1729</td>\n",
       "      <td>440</td>\n",
       "      <td>2012</td>\n",
       "      <td>242</td>\n",
       "      <td>Team Fortress 2</td>\n",
       "    </tr>\n",
       "    <tr>\n",
       "      <th>10</th>\n",
       "      <td>1730</td>\n",
       "      <td>1730</td>\n",
       "      <td>105600</td>\n",
       "      <td>2012</td>\n",
       "      <td>37</td>\n",
       "      <td>Terraria</td>\n",
       "    </tr>\n",
       "    <tr>\n",
       "      <th>11</th>\n",
       "      <td>1731</td>\n",
       "      <td>1731</td>\n",
       "      <td>4000</td>\n",
       "      <td>2012</td>\n",
       "      <td>33</td>\n",
       "      <td>Garry's Mod</td>\n",
       "    </tr>\n",
       "    <tr>\n",
       "      <th>12</th>\n",
       "      <td>1991</td>\n",
       "      <td>1991</td>\n",
       "      <td>440</td>\n",
       "      <td>2013</td>\n",
       "      <td>750</td>\n",
       "      <td>Team Fortress 2</td>\n",
       "    </tr>\n",
       "    <tr>\n",
       "      <th>13</th>\n",
       "      <td>1992</td>\n",
       "      <td>1992</td>\n",
       "      <td>4000</td>\n",
       "      <td>2013</td>\n",
       "      <td>311</td>\n",
       "      <td>Garry's Mod</td>\n",
       "    </tr>\n",
       "    <tr>\n",
       "      <th>14</th>\n",
       "      <td>1993</td>\n",
       "      <td>1993</td>\n",
       "      <td>570</td>\n",
       "      <td>2013</td>\n",
       "      <td>238</td>\n",
       "      <td>Dota 2</td>\n",
       "    </tr>\n",
       "    <tr>\n",
       "      <th>15</th>\n",
       "      <td>2640</td>\n",
       "      <td>2640</td>\n",
       "      <td>440</td>\n",
       "      <td>2014</td>\n",
       "      <td>1432</td>\n",
       "      <td>Team Fortress 2</td>\n",
       "    </tr>\n",
       "    <tr>\n",
       "      <th>16</th>\n",
       "      <td>2641</td>\n",
       "      <td>2641</td>\n",
       "      <td>730</td>\n",
       "      <td>2014</td>\n",
       "      <td>961</td>\n",
       "      <td>Counter-Strike: Global Offensive</td>\n",
       "    </tr>\n",
       "    <tr>\n",
       "      <th>17</th>\n",
       "      <td>2642</td>\n",
       "      <td>2642</td>\n",
       "      <td>4000</td>\n",
       "      <td>2014</td>\n",
       "      <td>691</td>\n",
       "      <td>Garry's Mod</td>\n",
       "    </tr>\n",
       "    <tr>\n",
       "      <th>18</th>\n",
       "      <td>4043</td>\n",
       "      <td>4043</td>\n",
       "      <td>730</td>\n",
       "      <td>2015</td>\n",
       "      <td>1342</td>\n",
       "      <td>Counter-Strike: Global Offensive</td>\n",
       "    </tr>\n",
       "    <tr>\n",
       "      <th>19</th>\n",
       "      <td>4044</td>\n",
       "      <td>4044</td>\n",
       "      <td>440</td>\n",
       "      <td>2015</td>\n",
       "      <td>596</td>\n",
       "      <td>Team Fortress 2</td>\n",
       "    </tr>\n",
       "    <tr>\n",
       "      <th>20</th>\n",
       "      <td>4045</td>\n",
       "      <td>4045</td>\n",
       "      <td>4000</td>\n",
       "      <td>2015</td>\n",
       "      <td>323</td>\n",
       "      <td>Garry's Mod</td>\n",
       "    </tr>\n",
       "  </tbody>\n",
       "</table>\n",
       "</div>"
      ],
      "text/plain": [
       "    level_0  index  game_id  posted_year  total_recommend  \\\n",
       "0         0      0      730            0              584   \n",
       "1         1      1      440            0              227   \n",
       "2         2      2     4000            0              128   \n",
       "3      1516   1516      440         2010                9   \n",
       "4      1517   1517     1250         2010                5   \n",
       "5      1518   1518      630         2010                4   \n",
       "6      1553   1553      440         2011               73   \n",
       "7      1554   1554      620         2011               25   \n",
       "8      1555   1555   105600         2011               21   \n",
       "9      1729   1729      440         2012              242   \n",
       "10     1730   1730   105600         2012               37   \n",
       "11     1731   1731     4000         2012               33   \n",
       "12     1991   1991      440         2013              750   \n",
       "13     1992   1992     4000         2013              311   \n",
       "14     1993   1993      570         2013              238   \n",
       "15     2640   2640      440         2014             1432   \n",
       "16     2641   2641      730         2014              961   \n",
       "17     2642   2642     4000         2014              691   \n",
       "18     4043   4043      730         2015             1342   \n",
       "19     4044   4044      440         2015              596   \n",
       "20     4045   4045     4000         2015              323   \n",
       "\n",
       "                            app_name  \n",
       "0   Counter-Strike: Global Offensive  \n",
       "1                    Team Fortress 2  \n",
       "2                        Garry's Mod  \n",
       "3                    Team Fortress 2  \n",
       "4                      Killing Floor  \n",
       "5                        Alien Swarm  \n",
       "6                    Team Fortress 2  \n",
       "7                           Portal 2  \n",
       "8                           Terraria  \n",
       "9                    Team Fortress 2  \n",
       "10                          Terraria  \n",
       "11                       Garry's Mod  \n",
       "12                   Team Fortress 2  \n",
       "13                       Garry's Mod  \n",
       "14                            Dota 2  \n",
       "15                   Team Fortress 2  \n",
       "16  Counter-Strike: Global Offensive  \n",
       "17                       Garry's Mod  \n",
       "18  Counter-Strike: Global Offensive  \n",
       "19                   Team Fortress 2  \n",
       "20                       Garry's Mod  "
      ]
     },
     "execution_count": 8,
     "metadata": {},
     "output_type": "execute_result"
    }
   ],
   "source": [
    "df_games_rec_top_3"
   ]
  },
  {
   "cell_type": "code",
   "execution_count": 9,
   "metadata": {},
   "outputs": [
    {
     "name": "stdout",
     "output_type": "stream",
     "text": [
      "Juegos más recomendados para el año 2013:\n",
      "    game_id         app_name  total_recommend\n",
      "12      440  Team Fortress 2              750\n",
      "13     4000      Garry's Mod              311\n",
      "14      570           Dota 2              238\n"
     ]
    }
   ],
   "source": [
    "def UsersRecommend(df_games_rec_top_3, posted_year):\n",
    "    # Filtrar df_games_rec_top_3 por el posted_year proporcionado\n",
    "    year_data = df_games_rec_top_3[df_games_rec_top_3['posted_year'] == posted_year]\n",
    "\n",
    "    if not year_data.empty:\n",
    "        # Presentar mensaje\n",
    "        print(f\"Juegos más recomendados para el año {posted_year}:\")\n",
    "\n",
    "        # Mostrar game_id, app_name y total_recommend para el posted_year dado\n",
    "        result = year_data[['game_id', 'app_name', 'total_recommend']]\n",
    "        print(result)\n",
    "    else:\n",
    "        print(f\"No hay datos disponibles para el posted_year {posted_year} en df_games_rec_top_3.\")\n",
    "\n",
    "# Ejemplo de uso\n",
    "UsersRecommend(df_games_rec_top_3, 2013)\n"
   ]
  },
  {
   "cell_type": "code",
   "execution_count": null,
   "metadata": {},
   "outputs": [],
   "source": []
  },
  {
   "cell_type": "markdown",
   "metadata": {},
   "source": [
    "## def UsersWorstDeveloper\n"
   ]
  },
  {
   "cell_type": "code",
   "execution_count": 10,
   "metadata": {},
   "outputs": [
    {
     "name": "stdout",
     "output_type": "stream",
     "text": [
      "Desarrolladores con más reseñas negativas para el año 2013 son:\n",
      "           developer  neg_rec\n",
      "5              Valve       10\n",
      "6      Infinity Ward        5\n",
      "7  Andrii Vintsevych        5\n"
     ]
    }
   ],
   "source": [
    "def UsersWorstDeveloper(df_dev_rec_worst_3, posted_year):\n",
    "    # Filtrar df_dev_rec_worst_3 por el posted_year proporcionado\n",
    "    year_data = df_dev_rec_worst_3[df_dev_rec_worst_3['posted_year'] == posted_year]\n",
    "\n",
    "    if not year_data.empty:\n",
    "        # Presentar mensaje\n",
    "        print(f\"Desarrolladores con más reseñas negativas para el año {posted_year} son:\")\n",
    "\n",
    "        # Mostrar developer y neg_rec para el posted_year dado\n",
    "        result = year_data[['developer', 'neg_rec']]\n",
    "        print(result)\n",
    "    else:\n",
    "        print(f\"No hay datos disponibles para el posted_year {posted_year} en df_dev_rec_worst_3.\")\n",
    "\n",
    "# Ejemplo de uso\n",
    "UsersWorstDeveloper(df_dev_rec_worst_3, 2013)\n"
   ]
  },
  {
   "cell_type": "code",
   "execution_count": null,
   "metadata": {},
   "outputs": [],
   "source": []
  },
  {
   "cell_type": "markdown",
   "metadata": {},
   "source": [
    "## def sentiment_analysis"
   ]
  },
  {
   "cell_type": "code",
   "execution_count": 11,
   "metadata": {},
   "outputs": [
    {
     "name": "stdout",
     "output_type": "stream",
     "text": [
      "<class 'pandas.core.frame.DataFrame'>\n",
      "RangeIndex: 2085 entries, 0 to 2084\n",
      "Data columns (total 5 columns):\n",
      " #   Column              Non-Null Count  Dtype \n",
      "---  ------              --------------  ----- \n",
      " 0   developer           2084 non-null   object\n",
      " 1   negative_sentiment  2085 non-null   int64 \n",
      " 2   neutral_sentiment   2085 non-null   int64 \n",
      " 3   positive_sentiment  2085 non-null   int64 \n",
      " 4   total_sentiment     2085 non-null   int64 \n",
      "dtypes: int64(4), object(1)\n",
      "memory usage: 81.6+ KB\n"
     ]
    }
   ],
   "source": [
    "df_dev_sent.info()"
   ]
  },
  {
   "cell_type": "code",
   "execution_count": 12,
   "metadata": {},
   "outputs": [
    {
     "data": {
      "text/plain": [
       "{'developer': 'Valve',\n",
       " 'sentiments': [{'Negative': 935, 'Neutral': 2141, 'Positive': 6385}]}"
      ]
     },
     "execution_count": 12,
     "metadata": {},
     "output_type": "execute_result"
    }
   ],
   "source": [
    "def sentiment_analysis(developer: str):\n",
    "    # Filtrar registros con al menos un análisis de sentimiento para el desarrollador proporcionado\n",
    "    df_filtered = df_dev_sent[(df_dev_sent['total_sentiment'] > 0) & (df_dev_sent['developer'] == developer)]\n",
    "\n",
    "    if not df_filtered.empty:\n",
    "        # Crear el diccionario con el desarrollador como llave y una lista de sentimientos como valor\n",
    "        sentiment_dict = {developer: []}\n",
    "\n",
    "        # Insertar valores de análisis de sentimientos en la lista\n",
    "        for index, row in df_filtered.iterrows():\n",
    "            sentiment_values = {\n",
    "                \"Negative\": row['negative_sentiment'],\n",
    "                \"Neutral\": row['neutral_sentiment'],\n",
    "                \"Positive\": row['positive_sentiment']\n",
    "            }\n",
    "            sentiment_dict[developer].append(sentiment_values)\n",
    "\n",
    "        # Presentar el diccionario resultante\n",
    "        result = {\"developer\": developer, \"sentiments\": sentiment_dict[developer]}\n",
    "    else:\n",
    "        result = {\"message\": f\"No hay datos disponibles para el desarrollador {developer} en df_dev_sent.\"}\n",
    "\n",
    "    return result\n",
    "\n",
    "#Ejemplo de uso\n",
    "result_dict = sentiment_analysis('Valve')\n",
    "result_dict"
   ]
  },
  {
   "cell_type": "code",
   "execution_count": null,
   "metadata": {},
   "outputs": [],
   "source": []
  },
  {
   "cell_type": "code",
   "execution_count": null,
   "metadata": {},
   "outputs": [],
   "source": []
  }
 ],
 "metadata": {
  "kernelspec": {
   "display_name": "Python 3",
   "language": "python",
   "name": "python3"
  },
  "language_info": {
   "codemirror_mode": {
    "name": "ipython",
    "version": 3
   },
   "file_extension": ".py",
   "mimetype": "text/x-python",
   "name": "python",
   "nbconvert_exporter": "python",
   "pygments_lexer": "ipython3",
   "version": "3.11.4"
  }
 },
 "nbformat": 4,
 "nbformat_minor": 2
}
